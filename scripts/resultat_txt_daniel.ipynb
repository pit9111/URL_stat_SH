{
 "cells": [
  {
   "cell_type": "code",
   "execution_count": 11,
   "id": "498d9b95-65be-4985-a312-df0bd15957ac",
   "metadata": {},
   "outputs": [
    {
     "name": "stdout",
     "output_type": "stream",
     "text": [
      "Correspondances enregistrées dans ..\\result\\txt_result_daniel.csv\n"
     ]
    }
   ],
   "source": [
    "import csv\n",
    "import os\n",
    "import re\n",
    "\n",
    "def extract_domains_from_csv(csv_path):\n",
    "    domains = set()\n",
    "    with open(csv_path, newline='', encoding='utf-8') as csvfile:\n",
    "        reader = csv.reader(csvfile)\n",
    "        next(reader)  # Skip header\n",
    "        for row in reader:\n",
    "            if len(row) > 1:\n",
    "                domains.add(row[1].strip())  # Extract domain from second column\n",
    "    return domains\n",
    "\n",
    "def search_domains_in_texts(pdf_text_folder, domains, output_csv_path):\n",
    "    domain_pattern = re.compile(r'\\b(' + '|'.join(re.escape(domain) for domain in domains) + r')\\b')\n",
    "    url_pattern = re.compile(r'https?://\\S+')  # Regex to extract URLs\n",
    "    matches = []  # Changed to list to store rows for CSV\n",
    "    \n",
    "    # Créer le dossier result s'il n'existe pas\n",
    "    os.makedirs(os.path.dirname(output_csv_path), exist_ok=True)\n",
    "    \n",
    "    for filename in os.listdir(pdf_text_folder):\n",
    "        if filename.endswith(\".txt\"):\n",
    "            file_path = os.path.join(pdf_text_folder, filename)\n",
    "            with open(file_path, \"r\", encoding=\"utf-8\") as txt_file:\n",
    "                text = txt_file.read().splitlines()\n",
    "                \n",
    "                for line in text:\n",
    "                    found = domain_pattern.findall(line)\n",
    "                    if found:\n",
    "                        urls = url_pattern.findall(line)\n",
    "                        for url in urls:\n",
    "                            # Ajouter seulement l'URL et le nom de fichier\n",
    "                            matches.append([url, filename[:-4]])  # Supprime les 4 derniers caractères (\".txt\")\n",
    "\n",
    "    \n",
    "    # Écrire dans un fichier CSV\n",
    "    with open(output_csv_path, \"w\", encoding=\"utf-8\", newline='') as output_file:\n",
    "        writer = csv.writer(output_file, delimiter=';')\n",
    "\n",
    "        # Écrire l'en-tête\n",
    "        writer.writerow([\"url\", \"filename\"])\n",
    "        # Écrire les données\n",
    "        writer.writerows(matches)\n",
    "    \n",
    "    print(f\"Correspondances enregistrées dans {output_csv_path}\")\n",
    "\n",
    "# Chemins d'accès avec remontée d'un niveau\n",
    "csv_path = os.path.join(\"..\", \"data\", \"SH\", \"SH_forge.csv\")\n",
    "txt_folder = os.path.join(\"..\", \"data\", \"txt\")\n",
    "output_path = os.path.join(\"..\", \"result\", \"txt_result_daniel.csv\")\n",
    "\n",
    "# Exécution\n",
    "domains = extract_domains_from_csv(csv_path)\n",
    "search_domains_in_texts(txt_folder, domains, output_path)"
   ]
  },
  {
   "cell_type": "code",
   "execution_count": null,
   "id": "9228ab84-d2b3-40ba-bf27-d9c1658968bc",
   "metadata": {},
   "outputs": [],
   "source": []
  }
 ],
 "metadata": {
  "kernelspec": {
   "display_name": "Python 3 (ipykernel)",
   "language": "python",
   "name": "python3"
  },
  "language_info": {
   "codemirror_mode": {
    "name": "ipython",
    "version": 3
   },
   "file_extension": ".py",
   "mimetype": "text/x-python",
   "name": "python",
   "nbconvert_exporter": "python",
   "pygments_lexer": "ipython3",
   "version": "3.11.5"
  }
 },
 "nbformat": 4,
 "nbformat_minor": 5
}
