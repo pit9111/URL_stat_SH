{
 "cells": [
  {
   "cell_type": "code",
   "execution_count": null,
   "id": "14641b4d-ac29-4dd3-9dfe-570360e21050",
   "metadata": {},
   "outputs": [],
   "source": [
    "import csv\n",
    "import os\n",
    "import re\n",
    "\n",
    "def extract_domains_from_csv(csv_path):\n",
    "    domains = set()\n",
    "    with open(csv_path, newline='', encoding='utf-8') as csvfile:\n",
    "        reader = csv.reader(csvfile)\n",
    "        next(reader)  # Skip header\n",
    "        for row in reader:\n",
    "            if len(row) > 1:\n",
    "                domains.add(row[1].strip())  # Extract domain from second column\n",
    "    return domains\n",
    "\n",
    "def search_domains_in_texts(pdf_text_folder, domains, output_txt_path):\n",
    "    domain_pattern = re.compile(r'\\b(' + '|'.join(re.escape(domain) for domain in domains) + r')\\b')\n",
    "    url_pattern = re.compile(r'https?://\\S+')  # Regex to extract URLs\n",
    "    matches = {}\n",
    "    \n",
    "    # Créer le dossier result s'il n'existe pas\n",
    "    os.makedirs(os.path.dirname(output_txt_path), exist_ok=True)\n",
    "    \n",
    "    for filename in os.listdir(pdf_text_folder):\n",
    "        if filename.endswith(\".txt\"):\n",
    "            file_path = os.path.join(pdf_text_folder, filename)\n",
    "            with open(file_path, \"r\", encoding=\"utf-8\") as txt_file:\n",
    "                text = txt_file.read().splitlines()\n",
    "                \n",
    "                for line in text:\n",
    "                    found = domain_pattern.findall(line)\n",
    "                    if found:\n",
    "                        urls = url_pattern.findall(line)  \n",
    "                        if filename not in matches:\n",
    "                            matches[filename] = []\n",
    "                        for url in urls:\n",
    "                            matches[filename].append((found[0], url))  \n",
    "    \n",
    "    with open(output_txt_path, \"w\", encoding=\"utf-8\") as output_file:\n",
    "        for file, found_domains in matches.items():\n",
    "            for domain, url in found_domains:\n",
    "                output_file.write(f\"{file}: {domain} (match: {url})\\n\")\n",
    "    \n",
    "    print(f\"Correspondances enregistrées dans {output_txt_path}\")\n",
    "\n",
    "# Chemins d'accès modifiés\n",
    "csv_path = \"./data/SH/SH_forge.csv\"\n",
    "txt_folder = os.path.join(\"data\", \"txt\")\n",
    "output_path = os.path.join(\"data\", \"result\", \"txt_result_daniel.txt\")\n",
    "\n",
    "# Exécution\n",
    "domains = extract_domains_from_csv(csv_path)\n",
    "search_domains_in_texts(txt_folder, domains, output_path)"
   ]
  }
 ],
 "metadata": {
  "kernelspec": {
   "display_name": "Python 3 (ipykernel)",
   "language": "python",
   "name": "python3"
  },
  "language_info": {
   "codemirror_mode": {
    "name": "ipython",
    "version": 3
   },
   "file_extension": ".py",
   "mimetype": "text/x-python",
   "name": "python",
   "nbconvert_exporter": "python",
   "pygments_lexer": "ipython3",
   "version": "3.11.5"
  }
 },
 "nbformat": 4,
 "nbformat_minor": 5
}
