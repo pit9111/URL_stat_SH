{
 "cells": [
  {
   "cell_type": "code",
   "execution_count": 9,
   "id": "1766088d-66d5-4140-a34e-91f4c7d44306",
   "metadata": {},
   "outputs": [
    {
     "name": "stdout",
     "output_type": "stream",
     "text": [
      "Total URLs in ../result/txt_result_daniel.csv: 8377\n",
      "Total URLs in ../result/urls_found_txt.csv: 8283\n",
      "Comparaison terminée. Résultats enregistrés dans ../result/comparison_result.csv\n",
      "Communes : 2801, Seulement dans ../result/txt_result_daniel.csv: 5576, Seulement dans ../result/urls_found_txt.csv: 5482\n"
     ]
    }
   ],
   "source": [
    "import csv\n",
    "import urllib.parse\n",
    "\n",
    "def normalize_url(url):\n",
    "    \"\"\"\n",
    "    Normalise une URL :\n",
    "    - Convertit en minuscules\n",
    "    - Supprime les espaces inutiles\n",
    "    - Supprime les '/' à la fin\n",
    "    - Décode les caractères encodés (%20 → espace)\n",
    "    \"\"\"\n",
    "    url = url.strip().lower()\n",
    "    url = urllib.parse.unquote(url)  # Décode les caractères encodés\n",
    "    if url.endswith('/'):\n",
    "        url = url[:-1]  # Supprime le '/' final\n",
    "    return url\n",
    "\n",
    "def load_csv(file_path, delimiter=';'):\n",
    "    \"\"\"\n",
    "    Charge un fichier CSV et retourne un ensemble d'URLs et fichiers associés.\n",
    "    On normalise les URLs et les noms de fichiers.\n",
    "    \"\"\"\n",
    "    urls = set()\n",
    "    try:\n",
    "        with open(file_path, mode='r', encoding='utf-8-sig') as file:\n",
    "            reader = csv.reader(file, delimiter=delimiter)\n",
    "            next(reader, None)  # Ignore l'en-tête\n",
    "            for row in reader:\n",
    "                if len(row) >= 2:\n",
    "                    url = normalize_url(row[0])\n",
    "                    filename = row[1].strip().lower()\n",
    "                    urls.add((url, filename))\n",
    "    except Exception as e:\n",
    "        print(f\"Erreur lors de la lecture de {file_path}: {e}\")\n",
    "    return urls\n",
    "\n",
    "def compare_csv(file1, file2, output_csv):\n",
    "    \"\"\"\n",
    "    Compare deux fichiers CSV contenant des colonnes 'url' et 'filename'.\n",
    "    Génère un fichier contenant les correspondances et les différences.\n",
    "    \"\"\"\n",
    "    urls_file1 = load_csv(file1, delimiter=';')\n",
    "    urls_file2 = load_csv(file2, delimiter=',')\n",
    "\n",
    "    # Vérifier s'il y a un problème de lecture\n",
    "    print(f\"Total URLs in {file1}: {len(urls_file1)}\")\n",
    "    print(f\"Total URLs in {file2}: {len(urls_file2)}\")\n",
    "\n",
    "    common_urls = urls_file1 & urls_file2\n",
    "    only_in_file1 = urls_file1 - urls_file2\n",
    "    only_in_file2 = urls_file2 - urls_file1\n",
    "\n",
    "    with open(output_csv, mode=\"w\", encoding=\"utf-8\", newline=\"\") as csv_file:\n",
    "        writer = csv.writer(csv_file, delimiter=';')\n",
    "        writer.writerow([\"url\", \"filename\", \"status\"])\n",
    "\n",
    "        for url, filename in common_urls:\n",
    "            writer.writerow([url, filename, \"Common\"])\n",
    "        \n",
    "        for url, filename in only_in_file1:\n",
    "            writer.writerow([url, filename, \"Only in xml_result_daniel.csv\"])\n",
    "        \n",
    "        for url, filename in only_in_file2:\n",
    "            writer.writerow([url, filename, \"Only in urls_found_xml.csv\"])\n",
    "\n",
    "    print(f\"Comparaison terminée. Résultats enregistrés dans {output_csv}\")\n",
    "    print(f\"Communes : {len(common_urls)}, Seulement dans {file1}: {len(only_in_file1)}, Seulement dans {file2}: {len(only_in_file2)}\")\n",
    "\n",
    "# Chemins des fichiers à comparer\n",
    "file1 = \"../result/txt_result_daniel.csv\"\n",
    "file2 = \"../result/urls_found_txt.csv\"\n",
    "output_file = \"../result/comparison_result.csv\"\n",
    "\n",
    "# Exécution de la comparaison\n",
    "compare_csv(file1, file2, output_file)\n"
   ]
  },
  {
   "cell_type": "code",
   "execution_count": null,
   "id": "9a8c925d-daeb-4cb0-b620-e745727b0e21",
   "metadata": {},
   "outputs": [],
   "source": [
    "comparer les documents avec l'article et ensuite comparer le nombre de docs associés a chaQUE DOC tuple (doc,nb_url)"
   ]
  }
 ],
 "metadata": {
  "kernelspec": {
   "display_name": "Python 3 (ipykernel)",
   "language": "python",
   "name": "python3"
  },
  "language_info": {
   "codemirror_mode": {
    "name": "ipython",
    "version": 3
   },
   "file_extension": ".py",
   "mimetype": "text/x-python",
   "name": "python",
   "nbconvert_exporter": "python",
   "pygments_lexer": "ipython3",
   "version": "3.11.5"
  }
 },
 "nbformat": 4,
 "nbformat_minor": 5
}
